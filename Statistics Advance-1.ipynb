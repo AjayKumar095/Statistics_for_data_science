{
 "cells": [
  {
   "cell_type": "markdown",
   "metadata": {},
   "source": [
    "<h1 style='color: red;'><center>Statistics Advance-1</center></h1>"
   ]
  },
  {
   "cell_type": "markdown",
   "metadata": {},
   "source": [
    "<h3 style=\"color: blue;\">Q1. What is the Probability density function?</h3>\n",
    "<p><strong>Answer.</strong></p>\n",
    "<p>The Probability Density Function (PDF) is a function that describes the likelihood of a continuous random variable taking on a particular value. For a random variable X, the PDF f(x) is defined such that the probability of X lying in an infinitesimal interval around x is approximately f(x)dx.</p>\n"
   ]
  },
  {
   "cell_type": "markdown",
   "metadata": {},
   "source": [
    "<h3 style=\"color: blue;\">Q2. What are the types of Probability distribution?</h3>\n",
    "<p><strong>Answer.</strong></p>\n",
    "<ul>\n",
    "    <li>Discrete Probability Distributions:\n",
    "        <ul>\n",
    "            <li>Bernoulli Distribution</li>\n",
    "            <li>Binomial Distribution</li>\n",
    "            <li>Poisson Distribution</li>\n",
    "        </ul>\n",
    "    </li>\n",
    "    <li>Continuous Probability Distributions:\n",
    "        <ul>\n",
    "            <li>Uniform Distribution</li>\n",
    "            <li>Normal (Gaussian) Distribution</li>\n",
    "            <li>Chi-Squared Distribution</li>\n",
    "        </ul>\n",
    "    </li>\n",
    "</ul>\n"
   ]
  },
  {
   "cell_type": "code",
   "execution_count": 4,
   "metadata": {},
   "outputs": [
    {
     "name": "stdout",
     "output_type": "stream",
     "text": [
      "The value of the PDF at x = 3.5 is 0.0032756133161384775\n"
     ]
    }
   ],
   "source": [
    "\"\"\"Q3. Write a Python function to calculate the probability density function of a normal distribution with\n",
    "given mean and standard deviation at a given point.\"\"\"\n",
    "\n",
    "import math\n",
    "\n",
    "def normal_pdf(x, mean, std_dev):\n",
    "    \"\"\"\n",
    "    Calculate the probability density function of a normal distribution.\n",
    "\n",
    "    Parameters:\n",
    "    x (float): The point at which to evaluate the PDF.\n",
    "    mean (float): The mean of the normal distribution.\n",
    "    std_dev (float): The standard deviation of the normal distribution.\n",
    "\n",
    "    Returns:\n",
    "    float: The value of the PDF at point x.\n",
    "    \"\"\"\n",
    "    # Calculate the coefficient\n",
    "    coefficient = 1 / (std_dev * math.sqrt(2 * math.sqrt(math.pi)))\n",
    "    \n",
    "    # Calculate the exponent\n",
    "    exponent = math.exp(-0.5 * ((x - mean) / std_dev) ** 2)\n",
    "    \n",
    "    # Calculate the PDF\n",
    "    pdf = coefficient * exponent\n",
    "    \n",
    "    return pdf\n",
    "\n",
    "# Example usage\n",
    "x = 3.5\n",
    "mean = 1.25\n",
    "std_dev = 0.68\n",
    "result = normal_pdf(x, mean, std_dev)\n",
    "print(f\"The value of the PDF at x = {x} is {result}\")\n"
   ]
  },
  {
   "cell_type": "markdown",
   "metadata": {},
   "source": [
    "<h3 style=\"color: blue;\">Q4. What are the properties of Binomial distribution? Give two examples of events where binomial\n",
    "distribution can be applied.</h3>\n",
    "<p><strong>Answer.</strong></p>\n",
    " <h5>Properties of Binomial Distribution</h5>\n",
    "    <ul>\n",
    "        <li>There are a fixed number of trials (n).</li>\n",
    "        <li>Each trial has only two possible outcomes: success or failure.</li>\n",
    "        <li>The probability of success (p) is the same for each trial.</li>\n",
    "        <li>The trials are independent; the outcome of one trial does not affect the outcome of another.</li>\n",
    "        <li>The random variable X represents the number of successes in n trials.</li>\n",
    "        <li>The mean of the binomial distribution is given by μ = n * p.</li>\n",
    "        <li>The variance of the binomial distribution is given by σ² = n * p * (1 - p).</li>\n",
    "    </ul>\n",
    "\n",
    "<h5>Examples of Events Where Binomial Distribution Can Be Applied</h5>\n",
    "    <ul>\n",
    "        <li>\n",
    "            <strong>Example 1:</strong> \n",
    "            Tossing a Coin - If we toss a fair coin 10 times, the number of heads obtained follows a binomial distribution with n = 10 and p = 0.5.\n",
    "        </li>\n",
    "        <li>\n",
    "            <strong>Example 2:</strong> \n",
    "            Quality Control - In a factory, if a machine produces items with a defect rate of 2%, the number of defective items in a sample of 100 items follows a binomial distribution with n = 100 and p = 0.02.\n",
    "        </li>\n",
    "    </ul>"
   ]
  },
  {
   "cell_type": "code",
   "execution_count": 5,
   "metadata": {},
   "outputs": [
    {
     "data": {
      "image/png": "[encoded data removed]",
      "text/plain": [
       "<Figure size 640x480 with 1 Axes>"
      ]
     },
     "metadata": {},
     "output_type": "display_data"
    }
   ],
   "source": [
    "\"\"\"Q5. Generate a random sample of size 1000 from a binomial distribution with probability of success 0.4\n",
    "and plot a histogram of the results using matplotlib.\"\"\"\n",
    "import numpy as np\n",
    "import matplotlib.pyplot as plt\n",
    "\n",
    "# Parameters\n",
    "n = 10 # Number of trials\n",
    "p = 0.4   # Probability of success\n",
    "size = 1000  # Sample size\n",
    "\n",
    "# Generate random sample\n",
    "sample = np.random.binomial(n=n, p=p, size=size)\n",
    "\n",
    "# Plot histogram\n",
    "plt.hist(sample, bins=30, edgecolor='k', alpha=0.7)\n",
    "plt.title('Histogram of Binomial Distribution')\n",
    "plt.xlabel('Number of successes')\n",
    "plt.ylabel('Frequency')\n",
    "plt.show()\n"
   ]
  },
  {
   "cell_type": "code",
   "execution_count": 6,
   "metadata": {},
   "outputs": [
    {
     "name": "stdout",
     "output_type": "stream",
     "text": [
      "The value of the CDF at k = 5 is 0.9160820579686966\n"
     ]
    }
   ],
   "source": [
    "\"\"\"Q6. Write a Python function to calculate the cumulative distribution function of a Poisson distribution\n",
    "with given mean at a given point.\"\"\"\n",
    "\n",
    "import math\n",
    "\n",
    "def poisson_cdf(k, mean):\n",
    "    \"\"\"\n",
    "    Calculate the cumulative distribution function of a Poisson distribution.\n",
    "\n",
    "    Parameters:\n",
    "    k (int): The point at which to evaluate the CDF.\n",
    "    mean (float): The mean (lambda) of the Poisson distribution.\n",
    "\n",
    "    Returns:\n",
    "    float: The value of the CDF at point k.\n",
    "    \"\"\"\n",
    "    # Initialize the CDF value\n",
    "    cdf = 0.0\n",
    "\n",
    "    # Sum the probabilities from 0 to k\n",
    "    for i in range(0, k + 1):\n",
    "        cdf += (math.exp(-mean) * mean**i) / math.factorial(i)\n",
    "\n",
    "    return cdf\n",
    "\n",
    "# Example usage\n",
    "k = 5\n",
    "mean = 3.0\n",
    "result = poisson_cdf(k, mean)\n",
    "print(f\"The value of the CDF at k = {k} is {result}\")\n"
   ]
  },
  {
   "cell_type": "markdown",
   "metadata": {},
   "source": [
    "<h3 style=\"color: blue;\">Q7. How Binomial distribution different from Poisson distribution?</h3>\n",
    "<p><strong>Answer.</strong></p>\n",
    "    <table>\n",
    "        <thead>\n",
    "            <tr>\n",
    "                <th>Feature</th>\n",
    "                <th>Binomial Distribution</th>\n",
    "                <th>Poisson Distribution</th>\n",
    "            </tr>\n",
    "        </thead>\n",
    "        <tbody>\n",
    "            <tr>\n",
    "                <td>Definition</td>\n",
    "                <td>Describes the number of successes in a fixed number of independent trials with the same probability of success.</td>\n",
    "                <td>Describes the number of events occurring within a fixed interval of time or space, with a known average rate, and events occur independently.</td>\n",
    "            </tr>\n",
    "            <tr>\n",
    "                <td>Parameters</td>\n",
    "                <td>Number of trials (n) and probability of success (p).</td>\n",
    "                <td>Mean number of occurrences (λ).</td>\n",
    "            </tr>\n",
    "            <tr>\n",
    "                <td>Probability of Success</td>\n",
    "                <td>Constant probability of success (p) in each trial.</td>\n",
    "                <td>Expected number of occurrences (λ) in a fixed interval.</td>\n",
    "            </tr>\n",
    "            <tr>\n",
    "                <td>Number of Trials</td>\n",
    "                <td>Fixed number of trials.</td>\n",
    "                <td>No fixed number of trials; focuses on occurrences over a continuous interval.</td>\n",
    "            </tr>\n",
    "            <tr>\n",
    "                <td>Example</td>\n",
    "                <td>Flipping a coin 10 times and counting the number of heads.</td>\n",
    "                <td>Counting the number of emails received in an hour.</td>\n",
    "            </tr>\n",
    "            <tr>\n",
    "                <td>Distribution Type</td>\n",
    "                <td>Discrete distribution.</td>\n",
    "                <td>Discrete distribution.</td>\n",
    "            </tr>\n",
    "            <tr>\n",
    "                <td>When to Use</td>\n",
    "                <td>When the number of trials is fixed and each trial is independent with a constant probability of success.</td>\n",
    "                <td>When events occur independently, and you are counting the number of occurrences over a fixed interval of time or space.</td>\n",
    "            </tr>\n",
    "        </tbody>\n",
    "    </table>"
   ]
  },
  {
   "cell_type": "code",
   "execution_count": 7,
   "metadata": {},
   "outputs": [
    {
     "name": "stdout",
     "output_type": "stream",
     "text": [
      "Sample Mean: 4.997\n",
      "Sample Variance: 4.812991\n"
     ]
    }
   ],
   "source": [
    "\"\"\"Q8. Generate a random sample of size 1000 from a Poisson distribution with mean 5 and calculate the\n",
    "sample mean and variance.\"\"\"\n",
    "\n",
    "import numpy as np\n",
    "\n",
    "# Parameters\n",
    "mean = 5  # Mean of the Poisson distribution\n",
    "size = 1000  # Sample size\n",
    "\n",
    "# Generate random sample\n",
    "sample = np.random.poisson(lam=mean, size=size)\n",
    "\n",
    "# Calculate sample mean\n",
    "sample_mean = np.mean(sample)\n",
    "\n",
    "# Calculate sample variance\n",
    "sample_variance = np.var(sample)\n",
    "\n",
    "# Print the results\n",
    "print(f\"Sample Mean: {sample_mean}\")\n",
    "print(f\"Sample Variance: {sample_variance}\")\n"
   ]
  },
  {
   "cell_type": "markdown",
   "metadata": {},
   "source": [
    "<h3 style=\"color: blue;\">Q9. How mean and variance are related in Binomial distribution and Poisson distribution?</h3>\n",
    "<p><strong>Answer.</strong></p>\n",
    "\n",
    "\n",
    "<h5>Binomial Distribution</h5>\n",
    "    <p>The Binomial distribution describes the number of successes in a fixed number of independent Bernoulli trials with the same probability of success.</p>\n",
    "    <ul>\n",
    "        <li><strong>Mean (μ):</strong> The mean of a Binomial distribution is given by <em>μ = n * p</em>, where <em>n</em> is the number of trials and <em>p</em> is the probability of success.</li>\n",
    "        <li><strong>Variance (σ²):</strong> The variance of a Binomial distribution is given by <em>σ² = n * p * (1 - p)</em>.</li>\n",
    "    </ul>\n",
    "\n",
    "<h5>Poisson Distribution</h5>\n",
    "    <p>The Poisson distribution describes the number of events occurring within a fixed interval of time or space, with a known average rate and events occurring independently.</p>\n",
    "    <ul>\n",
    "        <li><strong>Mean (λ):</strong> The mean of a Poisson distribution is given by <em>λ</em>, which is the average rate of occurrence.</li>\n",
    "        <li><strong>Variance (σ²):</strong> The variance of a Poisson distribution is also given by <em>λ</em>.</li>\n",
    "    </ul>\n",
    "\n",
    "<h5>Key Differences</h5>\n",
    "    <ul>\n",
    "        <li>In a Binomial distribution, the mean and variance are both functions of the number of trials (<em>n</em>) and the probability of success (<em>p</em>).</li>\n",
    "        <li>In a Poisson distribution, the mean and variance are equal, both being <em>λ</em>.</li>\n",
    "    </ul>"
   ]
  },
  {
   "cell_type": "markdown",
   "metadata": {},
   "source": [
    "<h3 style=\"color: blue;\">Q10. In normal distribution with respect to mean position, where does the least frequent data appear?</h3>\n",
    "<p><strong>Answer.</strong></p>\n",
    "\n",
    "<p>In a normal distribution, data is symmetrically distributed around the mean. The mean is the highest point of the distribution curve, indicating that data near the mean is the most frequent.</p>\n",
    "\n",
    "<p>The least frequent data appears at the tails of the distribution. These tails are located farthest from the mean, specifically:</p>\n",
    "\n",
    "<ul>\n",
    "        <li>On the left side: Far below the mean (significantly less than the mean).</li>\n",
    "        <li>On the right side: Far above the mean (significantly greater than the mean).</li>\n",
    "    </ul>\n",
    "\n",
    "<p>This is because the normal distribution follows a bell curve shape, where the probability density decreases as you move away from the mean towards the extreme values (both lower and higher).</p>\n",
    "\n",
    "<p>Mathematically, the tails approach but never actually reach zero probability, indicating that extreme values are possible but very rare.</p>"
   ]
  }
 ],
 "metadata": {
  "kernelspec": {
   "display_name": "base",
   "language": "python",
   "name": "python3"
  },
  "language_info": {
   "codemirror_mode": {
    "name": "ipython",
    "version": 3
   },
   "file_extension": ".py",
   "mimetype": "text/x-python",
   "name": "python",
   "nbconvert_exporter": "python",
   "pygments_lexer": "ipython3",
   "version": "3.11.7"
  }
 },
 "nbformat": 4,
 "nbformat_minor": 2
}
