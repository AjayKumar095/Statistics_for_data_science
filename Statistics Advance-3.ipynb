{
 "cells": [
  {
   "cell_type": "markdown",
   "metadata": {},
   "source": [
    "<h1 style='color: red;'><center>Statistics Advance-3</center></h1>"
   ]
  },
  {
   "cell_type": "markdown",
   "metadata": {},
   "source": [
    "<h3 style='color: blue;'>Q1: What is Estimation Statistics? Explain point estimate and interval estimate.</h3>\n",
    "<p><b>Answer:</b></p>\n",
    "<h4>Estimation: </h4>\n",
    "<p>The word estimation define itself, that we try to estimate something. In term of statistice, the estimation is the process to estimate the value of perimeters of population data with the help of sample data.</p>\n",
    "\n",
    "<h5>Type of Estimation:</h5>\n",
    "<p>There are mainly two type of estimation in statistics.</p>\n",
    "<ul>\n",
    "<li><strong>Point Estimation:</strong> The point estimation is give us a single value that we conclude about the perimeters of population data. like we try to estimate the mean value of population data with the help of sample data.</li>\n",
    "<li><strong>Interval Estimation:</strong> On the other hand the interval estimation give us the range of value in between  the actual value of population perimeters can have.</li>\n",
    "</ul>"
   ]
  },
  {
   "cell_type": "markdown",
   "metadata": {},
   "source": [
    "<h3 style='color: blue;'>Q2. Write a Python function to estimate the population mean using a sample mean and standard\n",
    "deviation.</h3>"
   ]
  },
  {
   "cell_type": "code",
   "execution_count": 4,
   "metadata": {},
   "outputs": [
    {
     "name": "stdout",
     "output_type": "stream",
     "text": [
      "Sample Mean: 85.48\n",
      "Sample Standard Deviation: 3.4895080837657715\n",
      "95% Confidence Interval: (84.0396018570253, 86.9203981429747)\n",
      "The population mean is lie between the range (84.0396018570253, 86.9203981429747) with 95% confidence.\n"
     ]
    }
   ],
   "source": [
    "\n",
    "import numpy as np \n",
    "import scipy.stats as st\n",
    "\n",
    "Sample_data = [78, 82, 85, 88, 90, 92, 85, 87, 89, 81, 83, 86, 88, 84, 80, 82, 87, 89, 90, 88, 85, 83, 82, 86, 87]\n",
    "\n",
    "sample_mean = np.mean(Sample_data)  ## mean if sample data\n",
    "sample_std = np.std(Sample_data, ddof=1) ## Standard deviation of sample data\n",
    "n = len(Sample_data)  ## length of sample data\n",
    "\n",
    "SEM=sample_std/np.sqrt(n)  ## SEM value (Standard Error of the Mean)\n",
    "\n",
    "confidence_level = 0.95\n",
    "degrees_of_freedom = n - 1\n",
    "t_score = st.t.ppf((1 + confidence_level) / 2, degrees_of_freedom)\n",
    "\n",
    "margin_of_error = t_score * SEM\n",
    "confidence_interval = (sample_mean - margin_of_error, sample_mean + margin_of_error)\n",
    "\n",
    "print(f\"Sample Mean: {sample_mean}\")\n",
    "print(f\"Sample Standard Deviation: {sample_std}\")\n",
    "print(f'The population mean is lie between the range {confidence_interval} with 95% confidence.' )"
   ]
  },
  {
   "cell_type": "markdown",
   "metadata": {},
   "source": [
    "<h3 style='color:blue'>Q3: What is Hypothesis testing? Why is it used? State the importance of Hypothesis testing.</h3>\n",
    "<p><b>Answer:</b></p>\n",
    " <h4>What is Hypothesis Testing?</h4>\n",
    "    <p>Hypothesis testing is a statistical method used to make decisions about a population parameter based on a sample data. It involves making an initial assumption called the null hypothesis (H<sub>0</sub>), and then determining whether the sample data provides sufficient evidence to reject this assumption in favor of an alternative hypothesis (H<sub>a</sub>).</p>\n",
    "<h4>Why is it Used?</h4>\n",
    "    <p>Hypothesis testing is used to infer the properties of a population, based on a sample. It helps researchers and analysts determine whether there is enough statistical evidence in a sample to infer that a certain condition is true for the entire population. It is commonly used in various fields such as medicine, economics, psychology, and social sciences to test theories and hypotheses.</p>\n",
    "\n",
    "<h4>Importance of Hypothesis Testing</h4>\n",
    "    <p>Hypothesis testing is important because:</p>\n",
    "    <ul>\n",
    "        <li><strong>Scientific Validation:</strong> It provides a structured framework for testing scientific theories and hypotheses.</li>\n",
    "        <li><strong>Decision Making:</strong> It aids in making data-driven decisions and reduces the likelihood of making erroneous conclusions.</li>\n",
    "        <li><strong>Research and Development:</strong> It is crucial in the development of new products, medicines, and technologies by validating experimental results.</li>\n",
    "        <li><strong>Policy Formulation:</strong> It helps policymakers in making informed decisions based on statistical evidence rather than assumptions or anecdotal evidence.</li>\n",
    "        <li><strong>Risk Management:</strong> It assists in assessing the risk of making incorrect decisions and helps in implementing risk mitigation strategies.</li>\n",
    "    </ul>"
   ]
  },
  {
   "cell_type": "markdown",
   "metadata": {},
   "source": [
    "<h3 style='color:blue'>Q4. Create a hypothesis that states whether the average weight of male college students is greater than\n",
    "the average weight of female college students.</h3>\n",
    "<p><b>Answer:</b></p>\n",
    "<ul>\n",
    "<li>Null Hypothesis (H<sub>0</sub>): The average weight of male college students is equal to or less than the average weight of female college students.</li>\n",
    "<li>H<sub>0</sub>: &mu;<sub>m</sub> &le; &mu;<sub>f</sub></li>\n",
    "        \n",
    "<li >Alternative Hypothesis (H<sub>1</sub>): The average weight of male college students is greater than the average weight of female college students.</li>\n",
    "<li>H<sub>1</sub>: &mu;<sub>m</sub> &gt; &mu;<sub>f</sub></li>\n",
    "</ul>"
   ]
  },
  {
   "cell_type": "markdown",
   "metadata": {},
   "source": [
    "<h3 style='color:blue'>Q5. Write a Python script to conduct a hypothesis test on the difference between two population means,\n",
    "given a sample from each population.</h3>\n",
    "<p><b>Answer:</b></p>\n"
   ]
  },
  {
   "cell_type": "code",
   "execution_count": 9,
   "metadata": {},
   "outputs": [
    {
     "name": "stdout",
     "output_type": "stream",
     "text": [
      "Sample 1 Mean: 70.90, Sample 2 Mean: 65.50\n",
      "Sample 1 Standard Deviation: 1.66, Sample 2 Standard Deviation: 1.58\n",
      "Sample Sizes: Sample 1 = 10, Sample 2 = 10\n",
      "T-Statistic: 7.4409\n",
      "P-Value: 0.0000\n",
      "Reject Null Hypothesis: There is a significant difference between the population means.\n"
     ]
    }
   ],
   "source": [
    "import numpy as np \n",
    "import scipy.stats as st \n",
    "\n",
    "# Sample data (replace with your actual data)\n",
    "sample1 = np.array([72, 73, 71, 68, 70, 69, 72, 70, 71, 73])\n",
    "sample2 = np.array([65, 67, 64, 66, 68, 63, 66, 65, 67, 64])\n",
    "\n",
    "sample1_mean=np.mean(sample1)\n",
    "sample2_mean=np.mean(sample2)\n",
    "\n",
    "sample1_std=np.std(sample1, ddof=1)\n",
    "sample2_std=np.std(sample2, ddof=1)\n",
    "\n",
    "sample1_len=len(sample1)\n",
    "sample2_len=len(sample2)\n",
    "\n",
    "t_statistic, p_value= st.ttest_ind(sample1, sample2)\n",
    "\n",
    "alpha=0.05 \n",
    "\n",
    "print(f\"Sample 1 Mean: {sample1_mean:.2f}, Sample 2 Mean: {sample2_mean:.2f}\")\n",
    "print(f\"Sample 1 Standard Deviation: {sample1_std:.2f}, Sample 2 Standard Deviation: {sample2_std:.2f}\")\n",
    "print(f\"Sample Sizes: Sample 1 = {sample1_len}, Sample 2 = {sample2_len}\")\n",
    "print(f\"T-Statistic: {t_statistic:.4f}\")\n",
    "print(f\"P-Value: {p_value:.4f}\")\n",
    "\n",
    "if p_value < alpha:\n",
    "    print(\"Reject Null Hypothesis: There is a significant difference between the population means.\")\n",
    "else:\n",
    "    print(\"Fail to Reject Null Hypothesis: There is not enough evidence to suggest a significant difference.\")"
   ]
  },
  {
   "cell_type": "markdown",
   "metadata": {},
   "source": [
    "<h3 style='color:blue'>Q6: What is a null and alternative hypothesis? Give some examples.</h3>\n",
    "<p><b>Answer:</b></p>\n",
    "<p>In hypothesis testing, we formulate two competing statements to assess the validity of a claim about a population parameter.</p>\n",
    "    \n",
    "<h4>Null Hypothesis (H<sub>0</sub>)</h4>\n",
    "    <ul>\n",
    "        <li>The null hypothesis is a statement of no effect or no difference.</li>\n",
    "        <li>H<sub>0</sub>: The average weight of male college students is equal to or less than the average weight of female college students.</li>\n",
    "        <li>H<sub>0</sub>: There is no relationship between hours spent studying and exam scores.</li>\n",
    "        <li>H<sub>0</sub>: The new drug does not reduce blood pressure compared to the standard treatment.</li>\n",
    "    </ul>\n",
    "    \n",
    "<h4>Alternative Hypothesis (H<sub>1</sub>)</h4>\n",
    "    <ul>\n",
    "        <li>The alternative hypothesis contradicts the null hypothesis.</li>\n",
    "        <li>H<sub>1</sub>: The average weight of male college students is greater than the average weight of female college students.</li>\n",
    "        <li>H<sub>1</sub>: There is a positive relationship between hours spent studying and exam scores.</li>\n",
    "        <li>H<sub>1</sub>: The new drug reduces blood pressure more effectively than the standard treatment.</li>\n",
    "    </ul>"
   ]
  },
  {
   "cell_type": "markdown",
   "metadata": {},
   "source": [
    "<h3 style='color:blue'>Q7: Write down the steps involved in hypothesis testing.</h3>\n",
    "<p><b>Answer:</b></p>\n",
    "<h4>Steps in Hypothesis Testing</h4>\n",
    "    \n",
    "  <ol>\n",
    "        <li><strong>State the Hypotheses:</strong>\n",
    "            <ul>\n",
    "                <li>Formulate the null hypothesis (H<sub>0</sub>), which typically represents no effect or no difference.</li>\n",
    "                <li>Formulate the alternative hypothesis (H<sub>1</sub>), which contradicts the null hypothesis and suggests there is an effect, difference, or relationship.</li>\n",
    "            </ul>\n",
    "        </li>\n",
    "        \n",
    " <li><strong>Set the Significance Level (α):</strong>\n",
    "            <ul>\n",
    "                <li>Choose a level of significance (typically α = 0.05 or α = 0.01) to determine the threshold for rejecting the null hypothesis.</li>\n",
    "            </ul>\n",
    "        </li>\n",
    "     \n",
    "<li><strong>Collect Data and Perform Analysis:</strong>\n",
    "            <ul>\n",
    "                <li>Gather data through observation, experimentation, or sampling.</li>\n",
    "                <li>Choose an appropriate statistical test based on the type of data and hypotheses.</li>\n",
    "                <li>Compute the test statistic and determine its probability (p-value).</li>\n",
    "            </ul>\n",
    "        </li>\n",
    "        \n",
    "  <li><strong>Make a Decision:</strong>\n",
    "            <ul>\n",
    "                <li>Compare the p-value to the significance level (α).</li>\n",
    "                <li>If p-value < α, reject the null hypothesis (H<sub>0</sub>).</li>\n",
    "                <li>If p-value ≥ α, fail to reject the null hypothesis (H<sub>0</sub>).</li>\n",
    "            </ul>\n",
    "        </li>\n",
    "        \n",
    "  <li><strong>Draw Conclusions:</strong>\n",
    "            <ul>\n",
    "                <li>Based on the decision, draw conclusions about the hypotheses and the relationship between variables.</li>\n",
    "            </ul>\n",
    "        </li>\n",
    "        \n",
    " <li><strong>Report Results:</strong>\n",
    "            <ul>\n",
    "                <li>Summarize the findings, including the test statistic, p-value, and the conclusion regarding the null hypothesis.</li>\n",
    "                <li>Discuss the implications of the results and any recommendations for further research or action.</li>\n",
    "            </ul>\n",
    "        </li>\n",
    "    </ol>"
   ]
  },
  {
   "cell_type": "markdown",
   "metadata": {},
   "source": [
    "<h3 style='color:blue'>Q8. Define p-value and explain its significance in hypothesis testing.</h3>\n",
    "<p><b>Answer:</b></p>\n",
    " <h4>Definition and Significance of p-value</h4>\n",
    "    \n",
    "<p>The p-value in hypothesis testing is the probability of obtaining results as extreme or more extreme than the observed results, assuming the null hypothesis (H<sub>0</sub>) is true.</p>\n",
    "    \n",
    "<p>It indicates how likely the sample data are, under the assumption that the null hypothesis is correct. A small p-value (typically less than the chosen significance level α, e.g., 0.05) suggests that the observed data are unlikely to occur if the null hypothesis is true. Therefore, we may reject the null hypothesis in favor of the alternative hypothesis (H<sub>1</sub>).</p>\n",
    "    \n",
    "<p>Conversely, a large p-value (greater than α) indicates that the observed data are likely to occur if the null hypothesis is true. In this case, we fail to reject the null hypothesis due to insufficient evidence to conclude otherwise.</p>\n",
    "    \n",
    "<p>The significance level (α) chosen determines the threshold for decision-making in hypothesis testing. Commonly used values for α include 0.05 and 0.01, representing the probability of Type I error (rejecting a true null hypothesis).</p>"
   ]
  },
  {
   "cell_type": "markdown",
   "metadata": {},
   "source": [
    "<h3 style='color:blue'>Q9. Generate a Student's t-distribution plot using Python's matplotlib library, with the degrees of freedom\n",
    "parameter set to 10.</h3>\n",
    "<p><b>Answer:</b></p>"
   ]
  },
  {
   "cell_type": "code",
   "execution_count": 13,
   "metadata": {},
   "outputs": [
    {
     "data": {
      "image/png": "[encoded data removed]",
      "text/plain": [
       "<Figure size 800x600 with 1 Axes>"
      ]
     },
     "metadata": {},
     "output_type": "display_data"
    }
   ],
   "source": [
    "import numpy as np\n",
    "import matplotlib.pyplot as plt\n",
    "from scipy.stats import t\n",
    "\n",
    "# Define the degrees of freedom\n",
    "df = 10\n",
    "\n",
    "# Generate x values for plotting\n",
    "x = np.linspace(-4, 4, 1000) \n",
    "\n",
    "# Calculate the probability density function (PDF) for t-distribution\n",
    "pdf = t.pdf(x, df)\n",
    "\n",
    "# Plotting the t-distribution\n",
    "plt.figure(figsize=(8, 6))\n",
    "plt.plot(x, pdf, label=f'Student\\'s t-Distribution (df={df})', color='blue')\n",
    "\n",
    "# Highlight the area under the curve for demonstration (optional)\n",
    "plt.fill_between(x, pdf, where=(x >= -1.833) & (x <= 1.833), color='lightblue', alpha=0.6, label='Area under curve')\n",
    "\n",
    "# Add labels, title, and legend\n",
    "plt.title(f'Student\\'s t-Distribution (df={df})')\n",
    "plt.xlabel('x')\n",
    "plt.ylabel('Probability Density')\n",
    "plt.legend()\n",
    "\n",
    "# Display the plot\n",
    "plt.grid(True)\n",
    "plt.show()\n"
   ]
  },
  {
   "cell_type": "markdown",
   "metadata": {},
   "source": [
    "<h3 style='color:blue'>Q10. Write a Python program to calculate the two-sample t-test for independent samples, given two\n",
    "random samples of equal size and a null hypothesis that the population means are equal.</h3>\n",
    "<p><b>Answer:</b></p>\n",
    "\n",
    "<h4>Null hypothesis that the population means are equal.</h4>\n",
    "<h4>Alternate hypothesis that their is significance difference between the population means.</h4>"
   ]
  },
  {
   "cell_type": "code",
   "execution_count": 29,
   "metadata": {},
   "outputs": [
    {
     "name": "stdout",
     "output_type": "stream",
     "text": [
      "Reject null hypothesis: There is a significant difference between the means of sample1 and sample2.\n"
     ]
    }
   ],
   "source": [
    "import numpy as np \n",
    "import scipy.stats as st \n",
    "\n",
    "sampledata1=np.random.randint(low=-100, high=100, size=25)\n",
    "sampledata2=np.random.randint(low=-100, high=200, size=25)\n",
    "\n",
    "\n",
    "t_stat, p_value =st.ttest_ind(sampledata1, sampledata2)\n",
    "\n",
    "alpha=0.05\n",
    "\n",
    "if p_value < alpha:\n",
    "    print(\"Reject null hypothesis: There is a significant difference between the means of sample1 and sample2.\")\n",
    "else:\n",
    "    print(\"Fail to reject null hypothesis: There is not enough evidence to conclude a significant difference.\")\n"
   ]
  },
  {
   "cell_type": "markdown",
   "metadata": {},
   "source": [
    "<h3 style='color:blue'>Q11: What is Student’s t distribution? When to use the t-Distribution.</h3>\n",
    "<p><b>Answer:</b></p>\n",
    "<h4>Student’s t Distribution and Its Usage</h4>\n",
    "    \n",
    " <h5>What is Student’s t Distribution?</h5>\n",
    "    <p>The Student’s t distribution (or simply t-distribution) is a probability distribution that is symmetric and bell-shaped, similar to the normal distribution. It is used when the sample size is small and the population standard deviation is unknown.</p>\n",
    "    \n",
    " <h5>When to Use the t-Distribution?</h5>\n",
    "    <p>The t-distribution is commonly used in hypothesis testing and constructing confidence intervals for the population mean when:</p>\n",
    "    <ul>\n",
    "        <li>The population standard deviation (σ) is unknown.</li>\n",
    "        <li>The sample size (n) is small (typically less than 30).</li>\n",
    "    </ul>\n",
    "    <p>In such cases, the t-distribution accounts for the additional uncertainty introduced by using the sample standard deviation (s) instead of the population standard deviation. As the sample size increases, the t-distribution approaches the normal distribution.</p>\n",
    "    \n",
    "<p>Moreover, the t-distribution is also used in scenarios where the data are approximately normally distributed but the sample size is relatively small, ensuring more accurate estimation and inference about the population parameters.</p>"
   ]
  },
  {
   "cell_type": "markdown",
   "metadata": {},
   "source": [
    "<h3 style='color:blue'>Q12: What is t-statistic? State the formula for t-statistic.</h3>\n",
    "<p><b>Answer:</b></p>\n",
    "\n",
    " \n",
    "   <h5>Definition</h5>\n",
    "    <p>The t-statistic is a measure used in hypothesis testing to determine if the mean of a sample differs significantly from the mean of a population. It quantifies the difference between the sample mean and the hypothesized population mean in terms of the sample standard error.</p>\n",
    "    \n",
    " <h5>Formula</h5>\n",
    " <p>The formula for the t-statistic depends on whether you are performing a one-sample t-test or a two-sample t-test. Here, we present the formula for a one-sample t-test:</p>\n",
    "    <p style=\"font-family: 'Courier New', monospace;\">\n",
    "        t = frac{{bar{x} - mu}}{{s/sqrt{n}}}\n",
    "    </p>\n",
    "    <ul>\n",
    "        <li><strong>t</strong>: t-statistic</li>\n",
    "        <li><strong>(bar{x})</strong>: Sample mean</li>\n",
    "        <li><strong>(mu)</strong>: Population mean (hypothesized value)</li>\n",
    "        <li><strong>s</strong>: Sample standard deviation</li>\n",
    "        <li><strong>n</strong>: Sample size</li>\n",
    "    </ul>\n",
    "    \n",
    "<p>This formula compares the difference between the sample mean (bar{x}) and the population mean (mu), adjusted for the variability of the sample (standard error of the mean).</p>\n",
    "    \n",
    "<p>For a two-sample t-test, the formula involves the difference between the sample means of two independent samples, scaled by the standard error of the difference.</p>"
   ]
  },
  {
   "cell_type": "markdown",
   "metadata": {},
   "source": [
    "<h3 style='color:blue'>Q13. A coffee shop owner wants to estimate the average daily revenue for their shop. They take a random\n",
    "sample of 50 days and find the sample mean revenue to be $500 with a standard deviation of $50.\n",
    "Estimate the population mean revenue with a 95% confidence interval.</h3>\n",
    "<p><b>Answer:</b></p>\n",
    "\n",
    "\n"
   ]
  },
  {
   "cell_type": "code",
   "execution_count": 39,
   "metadata": {},
   "outputs": [
    {
     "name": "stdout",
     "output_type": "stream",
     "text": [
      "We are 95% confident that the true population mean revenue for the coffee shop falls within the interval of (486.1407070887437, 513.8592929112564) per day, based on the sample data collected.\n"
     ]
    }
   ],
   "source": [
    "import numpy as np \n",
    "import scipy.stats as st\n",
    "\n",
    "## give data\n",
    "sample_mean=500\n",
    "sample_std=50\n",
    "sample_len=50\n",
    "\n",
    "Z=1.96 ## for 95% of confidence interval \n",
    "\n",
    "MOE=Z*(sample_std/np.sqrt(sample_len))\n",
    "\n",
    "confidence_interval=((sample_mean-MOE), (sample_mean+MOE))\n",
    "\n",
    "print(f'We are 95% confident that the true population mean revenue for the coffee shop falls within the interval of {confidence_interval} per day, based on the sample data collected.')\n"
   ]
  },
  {
   "cell_type": "markdown",
   "metadata": {},
   "source": [
    "<h3 style='color: blue;'>Q14. A researcher hypothesizes that a new drug will decrease blood pressure by 10 mmHg. They conduct a\n",
    "clinical trial with 100 patients and find that the sample mean decrease in blood pressure is 8 mmHg with a\n",
    "standard deviation of 3 mmHg. Test the hypothesis with a significance level of 0.05.</h3>\n"
   ]
  },
  {
   "cell_type": "markdown",
   "metadata": {},
   "source": [
    "Q15. An electronics company produces a certain type of product with a mean weight of 5 pounds and a\n",
    "standard deviation of 0.5 pounds. A random sample of 25 products is taken, and the sample mean weight\n",
    "is found to be 4.8 pounds. Test the hypothesis that the true mean weight of the products is less than 5\n",
    "pounds with a significance level of 0.01.\n",
    "\n",
    "Q16. Two groups of students are given different study materials to prepare for a test. The first group(n1 =30) has a mean score of 80 with a standard deviation of 10, and the second group (n2 = 40) has a mean\n",
    "score of 75 with a standard deviation of 8. Test the hypothesis that the population means for the two\n",
    "groups are equal with a significance level of 0.01.\n",
    "\n",
    "Q17. A marketing company wants to estimate the average number of ads watched by viewers during a TV\n",
    "program. They take a random sample of 50 viewers and find that the sample mean is 4 with a standard\n",
    "deviation of 1.5. Estimate the population mean with a 99% confidence interval."
   ]
  },
  {
   "cell_type": "code",
   "execution_count": null,
   "metadata": {},
   "outputs": [],
   "source": []
  }
 ],
 "metadata": {
  "kernelspec": {
   "display_name": "base",
   "language": "python",
   "name": "python3"
  },
  "language_info": {
   "codemirror_mode": {
    "name": "ipython",
    "version": 3
   },
   "file_extension": ".py",
   "mimetype": "text/x-python",
   "name": "python",
   "nbconvert_exporter": "python",
   "pygments_lexer": "ipython3",
   "version": "3.11.7"
  }
 },
 "nbformat": 4,
 "nbformat_minor": 2
}
