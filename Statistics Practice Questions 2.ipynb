{
 "cells": [
  {
   "cell_type": "markdown",
   "metadata": {},
   "source": [
    "<h1 style='color:green;'><center>Statistics Practice Questions</center></h1>"
   ]
  },
  {
   "cell_type": "markdown",
   "metadata": {},
   "source": [
    "<h3>Generate a list of 100 integers containing values between 90 to 130 and store it in the variable `int_list`.\n",
    "After generating the list, find the following:</h3>\n",
    "\n",
    "1. Write a Python function to calculate the mean of a given list of numbers. Create a function to find the median of a list of numbers.\n",
    "\n",
    "2. Develop a program to compute the mode of a list of integers.\n",
    "\n",
    "3. Implement a function to calculate the weighted mean of a list of values and their corresponding weights.\n",
    "\n",
    "4. Write a Python function to find the geometric mean of a list of positive numbers.\n",
    "\n",
    "5. Create a program to calculate the harmonic mean of a list of values.\n",
    "\n",
    "6. Build a function to determine the midrange of a list of numbers (average of the minimum and maximum).\n",
    "\n",
    "7. Implement a Python program to find the trimmed mean of a list, excluding a certain percentage of\n",
    "outliers.\n",
    "\n",
    "Solutions."
   ]
  },
  {
   "cell_type": "code",
   "execution_count": null,
   "metadata": {},
   "outputs": [],
   "source": [
    "## Generating a list of 100 integers containing values between 90 to 130.\n",
    "\n",
    "import numpy as np \n",
    "\n",
    "int_list = np.random.randint(low=90, high=130, size=100)"
   ]
  },
  {
   "cell_type": "code",
   "execution_count": null,
   "metadata": {},
   "outputs": [],
   "source": [
    "\"\"\" (1) Write a Python function to calculate the mean of a given list of numbers.\n",
    "\n",
    "Create a function to find the median of a list of numbers.\"\"\"\n",
    "\n",
    "def cal_mean(arr):\n",
    "    if len(arr) <= 1:\n",
    "        return arr\n",
    "    else:\n",
    "        return sum(arr)/len(arr)\n",
    "\n",
    "print(f'Mean of given data:', cal_mean(arr=int_list))"
   ]
  },
  {
   "cell_type": "code",
   "execution_count": null,
   "metadata": {},
   "outputs": [],
   "source": [
    "\"\"\" (2) Develop a program to compute the mode of a list of integers\"\"\"\n",
    "\n",
    "def find_mode(data):\n",
    "    # Step 1: Create a dictionary to count the frequency of each element\n",
    "    frequency_dict = {}\n",
    "    \n",
    "    for item in data:\n",
    "        if item in frequency_dict:\n",
    "            frequency_dict[item] += 1\n",
    "        else:\n",
    "            frequency_dict[item] = 1\n",
    "    \n",
    "    # Step 2: Find the maximum frequency\n",
    "    max_frequency = max(frequency_dict.values())\n",
    "    \n",
    "    # Step 3: Identify the mode(s)\n",
    "    mode = [key for key, value in frequency_dict.items() if value == max_frequency]\n",
    "    \n",
    "    # If there's only one mode, return the single value; otherwise, return the list of modes\n",
    "    if len(mode) == 1:\n",
    "        return mode[0]\n",
    "    else:\n",
    "        return mode\n",
    "\n",
    "# Example usage\n",
    "mode = find_mode(int_list)\n",
    "print(f\"The mode of the dataset is: {mode}\")\n"
   ]
  },
  {
   "cell_type": "code",
   "execution_count": null,
   "metadata": {},
   "outputs": [],
   "source": [
    "\"\"\"  (3) Implement a function to calculate the weighted mean of a list of values and their corresponding weights.\"\"\"\n",
    "\n",
    "## function to calculate the weighted mean of a list.\n",
    "def weighted_mean(arr:list, weights:list)->float:\n",
    "    \n",
    "    if len(arr) != len(weights):\n",
    "        return f'Length of input list and weights should be equal.'\n",
    "    \n",
    "    weighted_sum=0\n",
    "    weighted_product=1\n",
    "    \n",
    "    for value in arr:\n",
    "        for weight in weights:\n",
    "            weighted_sum += value*weight\n",
    "            weights.remove(weight)\n",
    "            break\n",
    "    \n",
    "    for weight in weights:\n",
    "        weighted_product += weight\n",
    "    \n",
    "    return weighted_sum/weighted_product    \n",
    "        \n",
    "# Sample list with weights.\n",
    "list_values = [85,90, 80]\n",
    "weighted_values= [0.4, 0.35,0.25]\n",
    "\n",
    "print(weighted_mean(arr=list_values, weights=weighted_values))\n"
   ]
  },
  {
   "cell_type": "code",
   "execution_count": null,
   "metadata": {},
   "outputs": [],
   "source": [
    "\"\"\" (4) Write a Python function to find the geometric mean of a list of positive numbers.\"\"\"\n",
    "\n",
    "# function to fine the geometric mean\n",
    "def geometric_mean(arr:list):\n",
    "    if len(arr) <=1 :\n",
    "        return arr\n",
    "    \n",
    "    product=1\n",
    "    for value in arr:\n",
    "        product*=value\n",
    "        \n",
    "    return (product)**(1/len(arr))   \n",
    "\n",
    "# Sample list \n",
    "\n",
    "sample_arr = [1,2,3,4,5,6,7,8,9,10]\n",
    "print(f'Geometric mean for give list:', geometric_mean(arr=sample_arr)) \n",
    "        "
   ]
  },
  {
   "cell_type": "code",
   "execution_count": null,
   "metadata": {},
   "outputs": [],
   "source": [
    "\"\"\" (5) Create a program to calculate the harmonic mean of a list of values.\"\"\"\n",
    "\n",
    "# function to fine harmonic mean.\n",
    "\n",
    "def harmonic_mean(arr:list):\n",
    "    if len(arr)<=1:\n",
    "        return arr\n",
    "    \n",
    "    reciprocal_sum=0\n",
    "    \n",
    "    for value in arr:\n",
    "        reciprocal_sum += 1/value\n",
    "        \n",
    "    return len(arr)/reciprocal_sum    \n",
    "\n",
    "# sample list\n",
    "\n",
    "sample=[60,40, ]\n",
    "HarmonicMean = harmonic_mean(arr=sample)\n",
    "print(f'harmonic mean for give list: {HarmonicMean}' )"
   ]
  },
  {
   "cell_type": "code",
   "execution_count": null,
   "metadata": {},
   "outputs": [],
   "source": [
    "\"\"\" (6) Build a function to determine the midrange of a list of numbers (average of the minimum and maximum).\"\"\"\n",
    "def midrange(numbers):\n",
    "    if not numbers:\n",
    "        return None  # Handle empty list case\n",
    "    \n",
    "    min_value = min(numbers)\n",
    "    max_value = max(numbers)\n",
    "    \n",
    "    return (min_value + max_value) / 2\n",
    "\n",
    "# Example usage\n",
    "data = [4, 7, 1, 10, 3]\n",
    "result = midrange(data)\n",
    "print(f\"The midrange of the list is: {result}\")\n"
   ]
  },
  {
   "cell_type": "code",
   "execution_count": null,
   "metadata": {},
   "outputs": [],
   "source": [
    "\"\"\" (7) Implement a Python program to find the trimmed mean of a list, excluding a certain percentage of\n",
    "outliers.\"\"\"\n",
    "\n",
    "def trimmed_mean(numbers, trim_percent):\n",
    "    if not numbers:\n",
    "        return None  # Handle empty list case\n",
    "    \n",
    "    n = len(numbers)\n",
    "    trim_count = int(n * trim_percent / 100)\n",
    "    \n",
    "    # Sort the list\n",
    "    sorted_numbers = sorted(numbers)\n",
    "    \n",
    "    # Trim the specified percentage from both ends\n",
    "    trimmed_numbers = sorted_numbers[trim_count:n - trim_count]\n",
    "    \n",
    "    if not trimmed_numbers:\n",
    "        return None  # Handle case where all elements are trimmed\n",
    "    \n",
    "    return sum(trimmed_numbers) / len(trimmed_numbers)\n",
    "\n",
    "# Example usage\n",
    "data = [4, 7, 1, 10, 3, 20, 15, 30]\n",
    "trimmed_result = trimmed_mean(data, 20)  # 20% trimming\n",
    "print(f\"The trimmed mean of the list is: {trimmed_result:.2f}\")\n"
   ]
  }
 ],
 "metadata": {
  "kernelspec": {
   "display_name": "Python 3",
   "language": "python",
   "name": "python3"
  },
  "language_info": {
   "codemirror_mode": {
    "name": "ipython",
    "version": 3
   },
   "file_extension": ".py",
   "mimetype": "text/x-python",
   "name": "python",
   "nbconvert_exporter": "python",
   "pygments_lexer": "ipython3",
   "version": "3.11.7"
  }
 },
 "nbformat": 4,
 "nbformat_minor": 2
}
