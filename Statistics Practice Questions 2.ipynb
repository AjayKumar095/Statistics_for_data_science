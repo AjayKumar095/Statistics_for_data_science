{
 "cells": [
  {
   "cell_type": "markdown",
   "metadata": {},
   "source": [
    "<h1 style='color:green;'><center>Statistics Practice Questions</center></h1>"
   ]
  },
  {
   "cell_type": "markdown",
   "metadata": {},
   "source": [
    "<h3>Generate a list of 100 integers containing values between 90 to 130 and store it in the variable `int_list`.\n",
    "After generating the list, find the following:</h3>\n",
    "\n",
    "1. Write a Python function to calculate the mean of a given list of numbers. Create a function to find the median of a list of numbers.\n",
    "\n",
    "2. Develop a program to compute the mode of a list of integers.\n",
    "\n",
    "3. Implement a function to calculate the weighted mean of a list of values and their corresponding weights.\n",
    "\n",
    "4. Write a Python function to find the geometric mean of a list of positive numbers.\n",
    "\n",
    "5. Create a program to calculate the harmonic mean of a list of values.\n",
    "\n",
    "6. Build a function to determine the midrange of a list of numbers (average of the minimum and maximum).\n",
    "\n",
    "7. Implement a Python program to find the trimmed mean of a list, excluding a certain percentage of\n",
    "outliers.\n",
    "\n",
    "Solutions."
   ]
  },
  {
   "cell_type": "code",
   "execution_count": 5,
   "metadata": {},
   "outputs": [],
   "source": [
    "## Generating a list of 100 integers containing values between 90 to 130.\n",
    "\n",
    "import numpy as np \n",
    "\n",
    "int_list = np.random.randint(low=90, high=130, size=100)"
   ]
  },
  {
   "cell_type": "code",
   "execution_count": 7,
   "metadata": {},
   "outputs": [
    {
     "name": "stdout",
     "output_type": "stream",
     "text": [
      "Mean of given data: 107.78\n"
     ]
    }
   ],
   "source": [
    "\"\"\" (1) Write a Python function to calculate the mean of a given list of numbers.\n",
    "\n",
    "Create a function to find the median of a list of numbers.\"\"\"\n",
    "\n",
    "def cal_mean(arr):\n",
    "    if len(arr) <= 1:\n",
    "        return arr\n",
    "    else:\n",
    "        return sum(arr)/len(arr)\n",
    "\n",
    "print(f'Mean of given data:', cal_mean(arr=int_list))"
   ]
  },
  {
   "cell_type": "code",
   "execution_count": null,
   "metadata": {},
   "outputs": [],
   "source": []
  }
 ],
 "metadata": {
  "kernelspec": {
   "display_name": "Python 3",
   "language": "python",
   "name": "python3"
  },
  "language_info": {
   "codemirror_mode": {
    "name": "ipython",
    "version": 3
   },
   "file_extension": ".py",
   "mimetype": "text/x-python",
   "name": "python",
   "nbconvert_exporter": "python",
   "pygments_lexer": "ipython3",
   "version": "3.11.7"
  }
 },
 "nbformat": 4,
 "nbformat_minor": 2
}
