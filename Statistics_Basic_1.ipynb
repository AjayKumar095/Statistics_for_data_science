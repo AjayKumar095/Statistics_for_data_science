{
 "cells": [
  {
   "cell_type": "markdown",
   "metadata": {},
   "source": [
    "<h4><center>Statistics Basic-1</center></h4>\n"
   ]
  },
  {
   "cell_type": "markdown",
   "metadata": {},
   "source": [
    "<h3 style='color: blue;'>Q1. What is Statistics?</h3>\n",
    "<p>Statistics is the science of collecting, analyzing, interpreting, presenting, and organizing data. It provides tools and methods to make sense of numerical information, allowing for informed decision-making and understanding patterns and trends in data.</p>\n"
   ]
  },
  {
   "cell_type": "markdown",
   "metadata": {},
   "source": [
    "<h3 style='color: blue;'>Q2. Define the different types of statistics and give an example of when each type might be used.</h3>\n",
    "\n",
    "<p>Statistics can be broadly categorized into descriptive and inferential statistics. Descriptive statistics summarize and describe the features of a dataset, such as calculating the mean or median of exam scores. Inferential statistics use sample data to make generalizations about a population, such as using a sample survey to estimate the average height of a population.</p>\n"
   ]
  },
  {
   "cell_type": "markdown",
   "metadata": {},
   "source": [
    "<h3 style='color: blue;'>Q3. What are the different types of data and how do they differ from each other? Provide an example of\n",
    "each type of data.</h3>\n",
    "\n",
    "<h4>Different Types of Data</h4>\n",
    "<p>Data can be categorized into different types based on their characteristics. The main types of data are:</p>\n",
    "    \n",
    "<h3>1. Nominal Data</h3>\n",
    "    <p>Nominal data represents categories without any specific order. Examples include:</p>\n",
    "    <ul>\n",
    "        <li>Gender (Male, Female)</li>\n",
    "        <li>Blood Type (A, B, AB, O)</li>\n",
    "    </ul>\n",
    "    \n",
    "<h3>2. Ordinal Data</h3>\n",
    "    <p>Ordinal data represents categories with a meaningful order but without a fixed interval between values. Examples include:</p>\n",
    "    <ul>\n",
    "        <li>Education Level (High School, Bachelor's, Master's, Doctorate)</li>\n",
    "        <li>Customer Satisfaction (Very Unsatisfied, Unsatisfied, Neutral, Satisfied, Very Satisfied)</li>\n",
    "    </ul>\n",
    "    \n",
    "<h3>3. Interval Data</h3>\n",
    "    <p>Interval data represents ordered categories with equal intervals between values but no true zero point. Examples include:</p>\n",
    "    <ul>\n",
    "        <li>Temperature in Celsius</li>\n",
    "        <li>IQ Scores</li>\n",
    "    </ul>\n",
    "    \n",
    " <h3>4. Ratio Data</h3>\n",
    "    <p>Ratio data represents ordered categories with equal intervals and a true zero point, allowing for meaningful comparisons of magnitudes. Examples include:</p>\n",
    "    <ul>\n",
    "        <li>Height (in centimeters)</li>\n",
    "        <li>Weight (in kilograms)</li>\n",
    "    </ul>"
   ]
  },
  {
   "cell_type": "markdown",
   "metadata": {},
   "source": [
    "<h3 style='color: blue;'>Q4. Categorise the following datasets with respect to quantitative and qualitative data types:\n",
    "<p></p>(i) Grading in exam: A+, A, B+, B, C+, C, D, E</p>\n",
    "<p>(ii) Colour of mangoes: yellow, green, orange, red</p>\n",
    "<p>(iii) Height data of a class: [178.9, 179, 179.5, 176, 177.2, 178.3, 175.8,...]</p>\n",
    "<p>(iv) Number of mangoes exported by a farm: [500, 600, 478, 672, ...]</p></h3>\n",
    "\n",
    " <h3>Data Categorization</h3>\n",
    "    <h5>Quantitative Data</h5>\n",
    "    <ul>\n",
    "        <li>Height data of a class: [178.9, 179, 179.5, 176, 177.2, 178.3, 175.8, ...]</li>\n",
    "        <li>Number of mangoes exported by a farm: [500, 600, 478, 672, ...]</li>\n",
    "    </ul>\n",
    "    <h5>Qualitative Data</h5>\n",
    "    <ul>\n",
    "        <li>Grading in exam: A+, A, B+, B, C+, C, D, E</li>\n",
    "        <li>Colour of mangoes: yellow, green, orange, red</li>\n",
    "    </ul>"
   ]
  },
  {
   "cell_type": "markdown",
   "metadata": {},
   "source": [
    "<h3 style='color: blue;'>Q5. Explain the concept of levels of measurement and give an example of a variable for each level.</h3>\n",
    " <h3>Levels of Measurement</h3>\n",
    "    <p>The concept of levels of measurement refers to the different ways variables can be quantified and categorized. There are four primary levels of measurement: nominal, ordinal, interval, and ratio.</p>\n",
    "    \n",
    "<h4>Nominal</h4>\n",
    "    <p>Nominal level of measurement classifies data into distinct categories where no order or ranking can be inferred. Example: <strong>Gender</strong> (e.g., male, female).</p>\n",
    "    \n",
    "<h4>Ordinal</h4>\n",
    "    <p>Ordinal level of measurement involves categories that can be ordered or ranked, but the differences between ranks are not uniform. Example: <strong>Education Level</strong> (e.g., high school, bachelor's, master's, PhD).</p>\n",
    "    \n",
    "<h4>Interval</h4>\n",
    "    <p>Interval level of measurement includes ordered categories where the difference between values is meaningful, but there is no true zero point. Example: <strong>Temperature</strong> in Celsius or Fahrenheit.</p>\n",
    "    \n",
    "<h4>Ratio</h4>\n",
    "    <p>Ratio level of measurement contains all the properties of interval measurement, but also includes a true zero point, allowing for the calculation of ratios. Example: <strong>Weight</strong> (e.g., kilograms, pounds).</p>"
   ]
  },
  {
   "cell_type": "markdown",
   "metadata": {},
   "source": [
    "<h3 style='color: blue;'>Q6. Why is it important to understand the level of measurement when analyzing data? Provide an\n",
    "example to illustrate your answer.</h3>\n",
    " <h4>Why is it important to understand the level of measurement when analyzing data?</h>\n",
    "    <p>\n",
    "        Understanding the level of measurement is important when analyzing data because it dictates the types of statistical analyses that are appropriate and the conclusions that can be drawn. There are four levels of measurement: nominal, ordinal, interval, and ratio. Each level has specific properties and requires different analytical approaches.\n",
    "    </p>\n",
    "    <p>\n",
    "        For example, consider analyzing survey data where respondents rate their satisfaction on a scale from 1 to 5. This is ordinal data because the numbers indicate a rank order but the intervals between them are not necessarily equal. Using the mean to summarize this data could be misleading because it assumes equal intervals between the ratings. Instead, the median or mode would be more appropriate measures of central tendency for ordinal data.\n",
    "    </p>"
   ]
  },
  {
   "cell_type": "markdown",
   "metadata": {},
   "source": [
    "<h3 style=\"color: blue;\">Q7. How nominal data type is different from ordinal data type.</h3>\n",
    "<p>Nominal data type is used for labeling variables without any quantitative value. Examples include gender, nationality, or color. Ordinal data type, however, involves order or rank among the variables, such as class levels, socioeconomic status, or ratings (e.g., good, better, best).</p>\n"
   ]
  },
  {
   "cell_type": "markdown",
   "metadata": {},
   "source": [
    "<h3 style='color: blue;'>Q8. Which type of plot can be used to display data in terms of range?</h3>\n",
    "<p>A box plot (or box-and-whisker plot) can be used to display data in terms of range.</p>"
   ]
  },
  {
   "cell_type": "markdown",
   "metadata": {},
   "source": [
    "<h3 style='color: blue;'>Q9. Describe the difference between descriptive and inferential statistics. Give an example of each\n",
    "type of statistics and explain how they are used.</h3>\n",
    "<h4>Descriptive vs. Inferential Statistics</h4>\n",
    "    <p>Descriptive statistics summarize and describe the features of a dataset. They provide simple summaries about the sample and the measures. Examples include measures of central tendency like mean, median, and mode, and measures of variability like range and standard deviation. For instance, calculating the average test score of a class provides a descriptive statistic.</p>\n",
    "    \n",
    "<p>Inferential statistics, on the other hand, make predictions or inferences about a population based on a sample of data drawn from that population. They help in making decisions or predictions. Examples include hypothesis testing, confidence intervals, and regression analysis. For example, using a sample of voters to predict the outcome of an election involves inferential statistics.</p>"
   ]
  },
  {
   "cell_type": "markdown",
   "metadata": {},
   "source": [
    "<h3 style='color: blue;'>Q10. What are some common measures of central tendency and variability used in statistics? Explain\n",
    "how each measure can be used to describe a dataset.</h3>\n",
    "\n",
    "<ol>\n",
    "  <li><strong>Measures of Central Tendency:</strong> \n",
    "    <ul>\n",
    "      <li><strong>Mean:</strong> Sum of all values divided by the number of values. Provides an average value.</li>\n",
    "      <li><strong>Median:</strong> Middle value when data is sorted. Resilient to extreme values.</li>\n",
    "      <li><strong>Mode:</strong> Most frequently occurring value. Useful for categorical data.</li>\n",
    "    </ul>\n",
    "  </li>\n",
    "  <li><strong>Measures of Variability:</strong> \n",
    "    <ul>\n",
    "      <li><strong>Range:</strong> Difference between the maximum and minimum values. Gives a spread of data.</li>\n",
    "      <li><strong>Variance:</strong> Average of squared differences from the mean. Indicates data dispersion.</li>\n",
    "      <li><strong>Standard Deviation:</strong> Square root of variance. Provides a measure of data spread.</li>\n",
    "    </ul>\n",
    "  </li>\n",
    "</ol>"
   ]
  }
 ],
 "metadata": {
  "kernelspec": {
   "display_name": "base",
   "language": "python",
   "name": "python3"
  },
  "language_info": {
   "name": "python",
   "version": "3.11.7"
  }
 },
 "nbformat": 4,
 "nbformat_minor": 2
}
