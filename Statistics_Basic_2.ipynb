{
 "cells": [
  {
   "cell_type": "markdown",
   "metadata": {},
   "source": [
    "<h1 style=\"color: red;\"><center>Statistics Basic-2</center></h1>"
   ]
  },
  {
   "cell_type": "markdown",
   "metadata": {},
   "source": [
    "<h3 style=\"color: blue;\">Q1. What are the three measures of central tendency?</h3>\n",
    "<p><strong>Answer:</strong></p>\n",
    " <ul>\n",
    "        <li><strong>Mean:</strong> The mean is the average of a set of numbers, calculated by dividing the sum of all values by the number of values.</li>\n",
    "        <li><strong>Median:</strong> The median is the middle value in a list of numbers ordered from smallest to largest. If the list has an even number of observations, the median is the average of the two middle numbers.</li>\n",
    "        <li><strong>Mode:</strong> The mode is the value that appears most frequently in a data set. A set of data may have one mode, more than one mode, or no mode at all.</li>\n",
    "    </ul>"
   ]
  },
  {
   "cell_type": "markdown",
   "metadata": {},
   "source": [
    "<h3 style='color: blue;'>Q2. What is the difference between the mean, median, and mode? How are they used to measure the\n",
    "central tendency of a dataset?</h3>\n",
    "<p><strong>Answer:</strong></p>\n",
    "    <table>\n",
    "        <tr >\n",
    "            <th style='color: green;'>Measure</th>\n",
    "            <th style='color: green;'>Definition</th>\n",
    "            <th style='color: green;'>Usage</th>\n",
    "        </tr>\n",
    "        <tr>\n",
    "            <td>Mean</td>\n",
    "            <td>The mean is the average of a set of numbers, calculated by dividing the sum of all values by the number of values.</td>\n",
    "            <td>The mean is used to measure the central tendency of a dataset when the data is symmetrically distributed without outliers. It provides a comprehensive measure by considering all values.</td>\n",
    "        </tr>\n",
    "        <tr>\n",
    "            <td>Median</td>\n",
    "            <td>The median is the middle value in a list of numbers ordered from smallest to largest. If the list has an even number of observations, the median is the average of the two middle numbers.</td>\n",
    "            <td>The median is used when the dataset has outliers or is skewed, as it is not affected by extreme values. It provides a better central location for such data distributions.</td>\n",
    "        </tr>\n",
    "        <tr>\n",
    "            <td>Mode</td>\n",
    "            <td>The mode is the value that appears most frequently in a data set. A set of data may have one mode, more than one mode, or no mode at all.</td>\n",
    "            <td>The mode is used to identify the most common value in a dataset, which is helpful in understanding the frequency of occurrences and is particularly useful for categorical data.</td>\n",
    "        </tr>\n",
    "    </table>"
   ]
  },
  {
   "cell_type": "code",
   "execution_count": 1,
   "metadata": {},
   "outputs": [
    {
     "name": "stdout",
     "output_type": "stream",
     "text": [
      "Mean: 177.01875\n",
      "Median: 177.0\n",
      "Mode: ModeResult(mode=177.0, count=3)\n"
     ]
    }
   ],
   "source": [
    "\"\"\"Q3. Measure the three measures of central tendency for the given height data:\n",
    "[178,177,176,177,178.2,178,175,179,180,175,178.9,176.2,177,172.5,178,176.5]\"\"\"\n",
    "\n",
    "## Answer:\n",
    "\n",
    "import numpy as np \n",
    "from scipy import stats\n",
    "\n",
    "## given data set:\n",
    "height_data=[178,177,176,177,178.2,178,175,179,180,175,178.9,176.2,177,172.5,178,176.5]\n",
    "\n",
    "## Mean of the given data set:\n",
    "mean=np.mean(height_data)\n",
    "\n",
    "## Median of the given data set:\n",
    "median=np.median(height_data)\n",
    "\n",
    "## Mode of the given data set:\n",
    "mode=stats.mode(height_data)\n",
    "\n",
    "print(f'Mean: {mean}')\n",
    "print(f'Median: {median}')\n",
    "print(f'Mode: {mode}')"
   ]
  },
  {
   "cell_type": "code",
   "execution_count": 4,
   "metadata": {},
   "outputs": [
    {
     "name": "stdout",
     "output_type": "stream",
     "text": [
      "Standard deviation: 1.7885814036548633\n"
     ]
    }
   ],
   "source": [
    "\"\"\"Q4. Find the standard deviation for the given data:\n",
    "[178,177,176,177,178.2,178,175,179,180,175,178.9,176.2,177,172.5,178,176.5]\"\"\"\n",
    "\n",
    "## Answer:\n",
    "\n",
    "import numpy as np\n",
    "\n",
    "given_data=[178,177,176,177,178.2,178,175,179,180,175,178.9,176.2,177,172.5,178,176.5]\n",
    "\n",
    "std=np.std(given_data)\n",
    "print(f'Standard deviation: {std}')"
   ]
  },
  {
   "cell_type": "markdown",
   "metadata": {},
   "source": [
    "<h3 style='color: blue;'>Q5. How are measures of dispersion such as range, variance, and standard deviation used to describe\n",
    "the spread of a dataset? Provide an example.</h3>\n",
    "<p><strong>Answer:</strong></string></p>\n",
    "    <h4>Measures of Dispersion: Range, Variance, and Standard Deviation</h4>\n",
    "    <p>Measures of dispersion describe the spread or variability of a dataset. The three primary measures are range, variance, and standard deviation.</p>\n",
    "    <h5>Range</h5>\n",
    "    <p>The range is the difference between the maximum and minimum values in a dataset.</p>\n",
    "    <p><strong>Example:</strong> For the dataset [2, 4, 6, 8, 10], the range is calculated as follows:</p>\n",
    "    <pre>Range = Maximum value - Minimum value\n",
    "Range = 10 - 2\n",
    "Range = 8</pre>\n",
    "    \n",
    "<h5>Variance</h5>\n",
    "    <p>Variance measures how far each number in the dataset is from the mean and is calculated as the average of the squared differences from the mean.</p>\n",
    "    <p><strong>Example:</strong> For the dataset [2, 4, 6, 8, 10], the variance is calculated as follows:</p>\n",
    "    <pre>\n",
    "Mean = (2 + 4 + 6 + 8 + 10) / 5\n",
    "Mean = 30 / 5\n",
    "Mean = 6\n",
    "\n",
    "Variance = [(2-6)² + (4-6)² + (6-6)² + (8-6)² + (10-6)²] / 5\n",
    "Variance = [16 + 4 + 0 + 4 + 16] / 5\n",
    "Variance = 40 / 5\n",
    "Variance = 8\n",
    "    </pre>\n",
    "    \n",
    "<h5>Standard Deviation</h5>\n",
    "    <p>The standard deviation is the square root of the variance and provides a measure of the average distance from the mean.</p>\n",
    "    <p><strong>Example:</strong> For the dataset [2, 4, 6, 8, 10], the standard deviation is calculated as follows:</p>\n",
    "    <pre>\n",
    "Standard Deviation = √Variance\n",
    "Standard Deviation = √8\n",
    "Standard Deviation ≈ 2.83\n",
    "    </pre>\n",
    "\n",
    "<h5>Usage</h5>\n",
    "    <p>These measures are used to describe the spread of a dataset in the following ways:</p>\n",
    "    <ul>\n",
    "        <li><strong>Range:</strong> Provides a simple measure of the total spread of the data. It is useful for getting a quick sense of the data's dispersion but is sensitive to outliers.</li>\n",
    "        <li><strong>Variance:</strong> Provides a measure of how data points differ from the mean. It gives more weight to outliers due to squaring the differences, making it useful for datasets where the spread is more important.</li>\n",
    "        <li><strong>Standard Deviation:</strong> Provides a measure of the average distance from the mean and is in the same units as the data. It is commonly used because it is easier to interpret compared to variance.</li>\n",
    "    </ul>"
   ]
  },
  {
   "cell_type": "markdown",
   "metadata": {},
   "source": [
    "<h3 style='color: blue;'>Q6. What is a Venn diagram?</h3>\n",
    "<p><strong>Answer:</strong></p>\n",
    " <p>A Venn diagram is a graphical representation of the relationships between different sets. It uses overlapping circles to illustrate the logical relationships, commonalities, and differences between the sets.</p>\n",
    "    \n",
    "<h5>Components of a Venn Diagram</h5>\n",
    "    <ul>\n",
    "        <li><strong>Circles:</strong> Each circle represents a set.</li>\n",
    "        <li><strong>Overlapping Areas:</strong> The areas where circles overlap represent the common elements between the sets.</li>\n",
    "        <li><strong>Non-overlapping Areas:</strong> The areas of the circles that do not overlap represent the elements unique to each set.</li>\n",
    "    </ul>\n",
    "    \n",
    "<h5>Usage</h5>\n",
    "    <p>Venn diagrams are used to visually organize information to show relationships between different groups. They are commonly used in various fields, including mathematics, logic, statistics, computer science, and business.</p>\n",
    "    \n",
    " <h5>Example</h5>\n",
    "    <p>Consider two sets, A and B:</p>\n",
    "    <ul>\n",
    "        <li>Set A: {1, 2, 3, 4}</li>\n",
    "        <li>Set B: {3, 4, 5, 6}</li>\n",
    "    </ul>\n",
    "    <p>The Venn diagram for these sets would show two overlapping circles. The overlapping area would contain the elements {3, 4}, which are common to both sets.</p>"
   ]
  },
  {
   "cell_type": "markdown",
   "metadata": {},
   "source": [
    "<h3 style='color: blue;'>Q7. For the two given sets A = (2,3,4,5,6,7) & B = (0,2,6,8,10). Find:\n",
    "(i) A B\n",
    "(ii) A ⋃ B</h3>\n",
    "<p><strong>Answer:</strong></p>\n",
    "    <h4>Set Operations for Sets A and B</h4>\n",
    "    <p>Given sets:</p>\n",
    "    <ul>\n",
    "        <li>Set A: {2, 3, 4, 5, 6, 7}</li>\n",
    "        <li>Set B: {0, 2, 6, 8, 10}</li>\n",
    "    </ul>\n",
    "    \n",
    "<h5>(i) Intersection of A and B (A ∩ B)</h5>\n",
    "    <p>The intersection of two sets A and B is the set of elements that are common to both A and B.</p>\n",
    "    <p><strong>Calculation:</strong></p>\n",
    "    <pre>\n",
    "A ∩ B = {x | x ∈ A and x ∈ B}\n",
    "A ∩ B = {2, 6}\n",
    "    </pre>\n",
    "    <p><strong>Result:</strong> A ∩ B = {2, 6}</p>\n",
    "    \n",
    "<h5>(ii) Union of A and B (A ⋃ B)</h5>\n",
    "    <p>The union of two sets A and B is the set of elements that are in A, or B, or in both.</p>\n",
    "    <p><strong>Calculation:</strong></p>\n",
    "    <pre>\n",
    "A ⋃ B = {x | x ∈ A or x ∈ B}\n",
    "A ⋃ B = {0, 2, 3, 4, 5, 6, 7, 8, 10}\n",
    "    </pre>\n",
    "    <p><strong>Result:</strong> A ⋃ B = {0, 2, 3, 4, 5, 6, 7, 8, 10}</p>"
   ]
  },
  {
   "cell_type": "markdown",
   "metadata": {},
   "source": [
    "<h3 style='color: blue;'>Q8. What do you understand about skewness in data?</h3>\n",
    "<p><strong>Answer:</strong></p>\n",
    " <h4>Understanding Skewness in Data</h4>\n",
    "    <p>Skewness is a measure of the asymmetry of the distribution of values in a dataset. It indicates the direction and relative magnitude of a dataset's deviation from a normal distribution.</p>\n",
    "    \n",
    "<h5>Types of Skewness</h5>\n",
    "    <ul>\n",
    "        <li><strong>Positive Skewness (Right-Skewed):</strong> When the tail on the right side of the distribution is longer or fatter than the left side. This means that the mean is greater than the median.</li>\n",
    "        <li><strong>Negative Skewness (Left-Skewed):</strong> When the tail on the left side of the distribution is longer or fatter than the right side. This means that the median is greater than the mean.</li>\n",
    "        <li><strong>Zero Skewness (Symmetrical Distribution):</strong> When the distribution is symmetrical and both tails are equal. This means that the mean and median are equal.</li>\n",
    "    </ul>\n",
    "    \n",
    " <h5>Importance of Skewness</h5>\n",
    "    <p>Understanding skewness is important for several reasons:</p>\n",
    "    <ul>\n",
    "        <li>It helps in identifying the nature of the data distribution.</li>\n",
    "        <li>It aids in selecting appropriate statistical methods and models for data analysis.</li>\n",
    "        <li>It provides insights into potential outliers and unusual data points.</li>\n",
    "    </ul>\n",
    "    \n",
    "<h5>Examples</h5>\n",
    "    <p><strong>Positive Skewness:</strong> Income distribution in a population where most people earn less, but a few individuals earn significantly more, causing a right skew.</p>\n",
    "    <p><strong>Negative Skewness:</strong> Test scores where most students score high, but a few score significantly lower, causing a left skew.</p>\n",
    "    \n",
    "<h5>Visualization</h5>\n",
    "    <p>Skewness can be visualized using histograms or box plots to better understand the data distribution.</p>"
   ]
  },
  {
   "cell_type": "markdown",
   "metadata": {},
   "source": [
    "<h3 style=\"color: blue;\">Q9. If a data is right skewed then what will be the position of median with respect to mean?</h3>\n",
    "<p><strong>Answer:</strong></p>\n",
    "<p>If a dataset is right skewed:</p>\n",
    "    <ul>\n",
    "        <li>The mean will be greater than the median.</li>\n",
    "        <li>This is because in a right-skewed distribution, the tail on the right side is longer or fatter, typically due to a few extremely high values.</li>\n",
    "        <li>These high values pull the mean to the right, making it greater than the median.</li>\n",
    "        <li>The median, being less affected by extreme values, tends to be closer to the center of the distribution, which is usually where the bulk of the data lies.</li>\n",
    "    </ul>"
   ]
  },
  {
   "cell_type": "markdown",
   "metadata": {},
   "source": [
    "<h3 style=\"color: blue;\">Q10. Explain the difference between covariance and correlation. How are these measures used in\n",
    "statistical analysis?</h3>\n",
    "<p><strong>Answer:</strong></p>\n",
    "    <table>\n",
    "        <tr>\n",
    "            <th style=\"color: green;\">Measure</th>\n",
    "            <th style=\"color: green;\">Definition</th>\n",
    "            <th style=\"color: green;\">Usage in Statistical Analysis</th>\n",
    "        </tr>\n",
    "        <tr>\n",
    "            <td>Covariance</td>\n",
    "            <td>Covariance is a measure of how two variables change together. It indicates the direction of the linear relationship between two variables.</td>\n",
    "            <td>Covariance is used to determine the degree to which two variables vary together. A positive covariance indicates a direct relationship, a negative covariance indicates an inverse relationship, and a covariance of zero indicates no relationship.</td>\n",
    "        </tr>\n",
    "        <tr>\n",
    "            <td>Correlation</td>\n",
    "            <td>Correlation is a standardized measure of the relationship between two variables. It indicates both the strength and direction of the linear relationship between variables.</td>\n",
    "            <td>Correlation is used to assess the strength and direction of the linear relationship between two variables. It ranges from -1 to 1, where 1 indicates a perfect positive correlation, -1 indicates a perfect negative correlation, and 0 indicates no linear correlation. Correlation is preferred over covariance because it is scale-independent and easier to interpret.</td>\n",
    "        </tr>\n",
    "    </table>"
   ]
  },
  {
   "cell_type": "markdown",
   "metadata": {},
   "source": [
    "<h3 style='color: blue;'>Q11. What is the formula for calculating the sample mean? Provide an example calculation for a\n",
    "dataset.</h3>\n",
    "<p><strong>Answer:</strong></p>\n",
    "  <h4>Sample Mean Calculation</h4>\n",
    "    <p>The sample mean, denoted by (bar{x}), is calculated as the sum of all values in the dataset divided by the total number of values.</p>\n",
    "    \n",
    "<h5>Formula:</h5>\n",
    "    <p>The formula for calculating the sample mean is:</p>\n",
    "    <p style=\"text-align:center;\">bar of x= (X<sub>i</sub>-X bar)<sup>2</sup>/n-1</p>\n",
    "    <p>Where:</p>\n",
    "    <ul>\n",
    "        <li>( bar{x}) = Sample mean</li>\n",
    "        <li>(X<sub>i</sub>) = Each individual value in the dataset</li>\n",
    "        <li>( n-1) = Where n in the total number of values in dataset</li>\n",
    "    </ul>\n",
    "    \n"
   ]
  },
  {
   "cell_type": "markdown",
   "metadata": {},
   "source": [
    "<h3 style='color: blue;'>Q12. For a normal distribution data what is the relationship between its measure of central tendency?</h3>\n",
    "<p><strong>Answer:</strong></p>\n",
    "<ul>\n",
    "<li>The mean, median, and mode are all equal.</li>\n",
    "<li>They are located at the center of the distribution.</li>\n",
    "<li>This relationship holds true regardless of the shape or scale of the distribution.</li>\n",
    "<li>The distribution is symmetric around the mean.</li>\n",
    "</ul>"
   ]
  },
  {
   "cell_type": "markdown",
   "metadata": {},
   "source": [
    "<h3 style='color: blue;'>Q13. How is covariance different from correlation?</h3>\n",
    "<p><strong>Answer:</strong></p>\n",
    "  <ul>\n",
    "        <li><strong>Interpretation:</strong>\n",
    "            <ul>\n",
    "                <li><strong>Covariance:</strong> Measures the direction of the linear relationship between two variables. A positive covariance indicates that the variables tend to move in the same direction, while a negative covariance indicates they move in opposite directions.</li>\n",
    "                <li><strong>Correlation:</strong> Measures both the direction and the strength of the linear relationship between two variables. Ranges from -1 to 1, where 1 indicates a perfect positive linear relationship, -1 indicates a perfect negative linear relationship, and 0 indicates no linear relationship.</li>\n",
    "            </ul>\n",
    "        </li>\n",
    "        <li><strong>Scale:</strong>\n",
    "            <ul>\n",
    "                <li><strong>Covariance:</strong> Not standardized and affected by the scale of the variables. Difficult to interpret the magnitude of covariance.</li>\n",
    "                <li><strong>Correlation:</strong> Standardized measure, not affected by the scale of the variables. Easier to interpret and compare across different datasets.</li>\n",
    "            </ul>\n",
    "        </li>\n",
    "    </ul>"
   ]
  },
  {
   "cell_type": "markdown",
   "metadata": {},
   "source": [
    "<h3 style='color: blue;'>Q14. How do outliers affect measures of central tendency and dispersion? Provide an example.</h3>\n",
    "<p><strong>Answer:</strong></p>\n",
    "<p>Outliers are data points that significantly differ from the rest of the data in a dataset. They can have a notable impact on measures of central tendency and dispersion.</p>\n",
    "    \n",
    " <h5>Effects on Measures of Central Tendency</h5>\n",
    "    <p>Outliers can distort measures of central tendency such as the mean, median, and mode.</p>\n",
    "    <ul>\n",
    "        <li><strong>Mean:</strong> Outliers can heavily influence the mean, pulling it towards the outlier value. This can result in an inaccurate representation of the central tendency if the outlier is not representative of the rest of the data.</li>\n",
    "        <li><strong>Median:</strong> The median is less affected by outliers compared to the mean. However, extreme outliers can still cause a shift in the median, especially in small datasets.</li>\n",
    "        <li><strong>Mode:</strong> Outliers do not directly affect the mode, as it represents the most frequently occurring value in the dataset. However, in skewed distributions, outliers may impact the mode by shifting the peak of the distribution.</li>\n",
    "    </ul>\n",
    "    \n",
    "<h5>Effects on Measures of Dispersion</h5>\n",
    "    <p>Outliers can also impact measures of dispersion such as the range, variance, and standard deviation.</p>\n",
    "    <ul>\n",
    "        <li><strong>Range:</strong> Outliers can significantly increase the range by introducing extreme values. This can overestimate the spread of the data.</li>\n",
    "        <li><strong>Variance and Standard Deviation:</strong> Outliers can inflate the variance and standard deviation, particularly if they are far from the mean. This is because these measures consider the distance of each data point from the mean, so extreme values contribute disproportionately to the variability.</li>\n",
    "    </ul>\n",
    "    \n",
    "   <h5>Example</h5>\n",
    "    <p>Consider the following dataset of exam scores: [85, 88, 90, 92, 95, 97, 100, 120].</p>\n",
    "    <p>In this dataset, 120 is an outlier. Its presence significantly affects the mean, pushing it higher. It also increases the range and inflates the variance and standard deviation, providing a misleading representation of the central tendency and dispersion of the data.</p>"
   ]
  }
 ],
 "metadata": {
  "kernelspec": {
   "display_name": "base",
   "language": "python",
   "name": "python3"
  },
  "language_info": {
   "codemirror_mode": {
    "name": "ipython",
    "version": 3
   },
   "file_extension": ".py",
   "mimetype": "text/x-python",
   "name": "python",
   "nbconvert_exporter": "python",
   "pygments_lexer": "ipython3",
   "version": "3.11.7"
  }
 },
 "nbformat": 4,
 "nbformat_minor": 2
}
